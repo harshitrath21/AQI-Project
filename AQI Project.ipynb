{
 "cells": [
  {
   "cell_type": "markdown",
   "id": "ed3ed85b-13ef-487f-8f75-d0ff0bd4b692",
   "metadata": {},
   "source": [
    "# **Air Quality - Statistical and Hypothesis Testing**"
   ]
  },
  {
   "cell_type": "markdown",
   "id": "dfd4dec4-e59b-40da-87e2-e7508cc65a3e",
   "metadata": {},
   "source": [
    "# **Explore confidence intervals and hypothesis testing**"
   ]
  },
  {
   "cell_type": "markdown",
   "id": "0a3355d3-13cb-41a3-bfa5-7f98dca52353",
   "metadata": {},
   "source": [
    "# Confidence intervals"
   ]
  },
  {
   "cell_type": "markdown",
   "id": "f10f5052-15b3-4bb2-8a2d-bc601783ee40",
   "metadata": {},
   "source": [
    "# *Introduction*\n",
    ">The Air Quality Index (AQI) is the Environmental Protection Agency's index for reporting air quality. \n",
    ">A value close to 0 signals little to no public health concern, while higher values are associated with increased risk to public health.\n",
    ">The United States is considering a new federal policy that would create a subsidy for renewable energy in states observing an average AQI of 10 or above.\n",
    ">The Ripple Renewable Energy (RRE) operates in the following U.S. states: California, Florida, Michigan, Ohio, Pennsylvania, Texas. I want to conduct an analysis which identifies which of these states are most likely to be affected, should the new federal policy be enacted."
   ]
  },
  {
   "cell_type": "markdown",
   "id": "8cb343b5-2b52-4f52-a7cc-7c324693bdd1",
   "metadata": {},
   "source": [
    "# 1: Imports"
   ]
  },
  {
   "cell_type": "code",
   "execution_count": 52,
   "id": "08cd0ea3-f9e9-44b0-810d-b466de157dd0",
   "metadata": {},
   "outputs": [],
   "source": [
    "# Import relevant packages.\n",
    "\n",
    "import pandas as pd\n",
    "import numpy as np\n",
    "import matplotlib.pyplot as plt\n",
    "import seaborn as sns\n",
    "from scipy import stats"
   ]
  },
  {
   "cell_type": "code",
   "execution_count": 53,
   "id": "ca0a07bd-4bae-497f-8661-77e9aa2bc659",
   "metadata": {},
   "outputs": [],
   "source": [
    "# Use read_csv() to import the data.\n",
    "\n",
    "aqi = pd.read_csv('/Users/harshitrathi/Desktop/c4_epa_air_quality.csv')"
   ]
  },
  {
   "cell_type": "markdown",
   "id": "0006f9e2-d966-4b64-83b7-dd7f49026fee",
   "metadata": {},
   "source": [
    "# 2: Data exploration"
   ]
  },
  {
   "cell_type": "code",
   "execution_count": 54,
   "id": "26be65e6-f547-443e-903d-2d2a5cd611da",
   "metadata": {},
   "outputs": [
    {
     "data": {
      "text/html": [
       "<div>\n",
       "<style scoped>\n",
       "    .dataframe tbody tr th:only-of-type {\n",
       "        vertical-align: middle;\n",
       "    }\n",
       "\n",
       "    .dataframe tbody tr th {\n",
       "        vertical-align: top;\n",
       "    }\n",
       "\n",
       "    .dataframe thead th {\n",
       "        text-align: right;\n",
       "    }\n",
       "</style>\n",
       "<table border=\"1\" class=\"dataframe\">\n",
       "  <thead>\n",
       "    <tr style=\"text-align: right;\">\n",
       "      <th></th>\n",
       "      <th>Unnamed: 0</th>\n",
       "      <th>date_local</th>\n",
       "      <th>state_name</th>\n",
       "      <th>county_name</th>\n",
       "      <th>city_name</th>\n",
       "      <th>local_site_name</th>\n",
       "      <th>parameter_name</th>\n",
       "      <th>units_of_measure</th>\n",
       "      <th>arithmetic_mean</th>\n",
       "      <th>aqi</th>\n",
       "    </tr>\n",
       "  </thead>\n",
       "  <tbody>\n",
       "    <tr>\n",
       "      <th>0</th>\n",
       "      <td>0</td>\n",
       "      <td>2018-01-01</td>\n",
       "      <td>Arizona</td>\n",
       "      <td>Maricopa</td>\n",
       "      <td>Buckeye</td>\n",
       "      <td>BUCKEYE</td>\n",
       "      <td>Carbon monoxide</td>\n",
       "      <td>Parts per million</td>\n",
       "      <td>0.473684</td>\n",
       "      <td>7</td>\n",
       "    </tr>\n",
       "    <tr>\n",
       "      <th>1</th>\n",
       "      <td>1</td>\n",
       "      <td>2018-01-01</td>\n",
       "      <td>Ohio</td>\n",
       "      <td>Belmont</td>\n",
       "      <td>Shadyside</td>\n",
       "      <td>Shadyside</td>\n",
       "      <td>Carbon monoxide</td>\n",
       "      <td>Parts per million</td>\n",
       "      <td>0.263158</td>\n",
       "      <td>5</td>\n",
       "    </tr>\n",
       "    <tr>\n",
       "      <th>2</th>\n",
       "      <td>2</td>\n",
       "      <td>2018-01-01</td>\n",
       "      <td>Wyoming</td>\n",
       "      <td>Teton</td>\n",
       "      <td>Not in a city</td>\n",
       "      <td>Yellowstone National Park - Old Faithful Snow ...</td>\n",
       "      <td>Carbon monoxide</td>\n",
       "      <td>Parts per million</td>\n",
       "      <td>0.111111</td>\n",
       "      <td>2</td>\n",
       "    </tr>\n",
       "    <tr>\n",
       "      <th>3</th>\n",
       "      <td>3</td>\n",
       "      <td>2018-01-01</td>\n",
       "      <td>Pennsylvania</td>\n",
       "      <td>Philadelphia</td>\n",
       "      <td>Philadelphia</td>\n",
       "      <td>North East Waste (NEW)</td>\n",
       "      <td>Carbon monoxide</td>\n",
       "      <td>Parts per million</td>\n",
       "      <td>0.300000</td>\n",
       "      <td>3</td>\n",
       "    </tr>\n",
       "    <tr>\n",
       "      <th>4</th>\n",
       "      <td>4</td>\n",
       "      <td>2018-01-01</td>\n",
       "      <td>Iowa</td>\n",
       "      <td>Polk</td>\n",
       "      <td>Des Moines</td>\n",
       "      <td>CARPENTER</td>\n",
       "      <td>Carbon monoxide</td>\n",
       "      <td>Parts per million</td>\n",
       "      <td>0.215789</td>\n",
       "      <td>3</td>\n",
       "    </tr>\n",
       "    <tr>\n",
       "      <th>5</th>\n",
       "      <td>5</td>\n",
       "      <td>2018-01-01</td>\n",
       "      <td>Hawaii</td>\n",
       "      <td>Honolulu</td>\n",
       "      <td>Not in a city</td>\n",
       "      <td>Kapolei</td>\n",
       "      <td>Carbon monoxide</td>\n",
       "      <td>Parts per million</td>\n",
       "      <td>0.994737</td>\n",
       "      <td>14</td>\n",
       "    </tr>\n",
       "    <tr>\n",
       "      <th>6</th>\n",
       "      <td>6</td>\n",
       "      <td>2018-01-01</td>\n",
       "      <td>Hawaii</td>\n",
       "      <td>Honolulu</td>\n",
       "      <td>Not in a city</td>\n",
       "      <td>Kapolei</td>\n",
       "      <td>Carbon monoxide</td>\n",
       "      <td>Parts per million</td>\n",
       "      <td>0.200000</td>\n",
       "      <td>2</td>\n",
       "    </tr>\n",
       "    <tr>\n",
       "      <th>7</th>\n",
       "      <td>7</td>\n",
       "      <td>2018-01-01</td>\n",
       "      <td>Pennsylvania</td>\n",
       "      <td>Erie</td>\n",
       "      <td>Erie</td>\n",
       "      <td>NaN</td>\n",
       "      <td>Carbon monoxide</td>\n",
       "      <td>Parts per million</td>\n",
       "      <td>0.200000</td>\n",
       "      <td>2</td>\n",
       "    </tr>\n",
       "    <tr>\n",
       "      <th>8</th>\n",
       "      <td>8</td>\n",
       "      <td>2018-01-01</td>\n",
       "      <td>Hawaii</td>\n",
       "      <td>Honolulu</td>\n",
       "      <td>Honolulu</td>\n",
       "      <td>Honolulu</td>\n",
       "      <td>Carbon monoxide</td>\n",
       "      <td>Parts per million</td>\n",
       "      <td>0.400000</td>\n",
       "      <td>5</td>\n",
       "    </tr>\n",
       "    <tr>\n",
       "      <th>9</th>\n",
       "      <td>9</td>\n",
       "      <td>2018-01-01</td>\n",
       "      <td>Colorado</td>\n",
       "      <td>Larimer</td>\n",
       "      <td>Fort Collins</td>\n",
       "      <td>Fort Collins - CSU - S. Mason</td>\n",
       "      <td>Carbon monoxide</td>\n",
       "      <td>Parts per million</td>\n",
       "      <td>0.300000</td>\n",
       "      <td>6</td>\n",
       "    </tr>\n",
       "  </tbody>\n",
       "</table>\n",
       "</div>"
      ],
      "text/plain": [
       "   Unnamed: 0  date_local    state_name   county_name      city_name  \\\n",
       "0           0  2018-01-01       Arizona      Maricopa        Buckeye   \n",
       "1           1  2018-01-01          Ohio       Belmont      Shadyside   \n",
       "2           2  2018-01-01       Wyoming         Teton  Not in a city   \n",
       "3           3  2018-01-01  Pennsylvania  Philadelphia   Philadelphia   \n",
       "4           4  2018-01-01          Iowa          Polk     Des Moines   \n",
       "5           5  2018-01-01        Hawaii      Honolulu  Not in a city   \n",
       "6           6  2018-01-01        Hawaii      Honolulu  Not in a city   \n",
       "7           7  2018-01-01  Pennsylvania          Erie           Erie   \n",
       "8           8  2018-01-01        Hawaii      Honolulu       Honolulu   \n",
       "9           9  2018-01-01      Colorado       Larimer   Fort Collins   \n",
       "\n",
       "                                     local_site_name   parameter_name  \\\n",
       "0                                            BUCKEYE  Carbon monoxide   \n",
       "1                                          Shadyside  Carbon monoxide   \n",
       "2  Yellowstone National Park - Old Faithful Snow ...  Carbon monoxide   \n",
       "3                             North East Waste (NEW)  Carbon monoxide   \n",
       "4                                          CARPENTER  Carbon monoxide   \n",
       "5                                            Kapolei  Carbon monoxide   \n",
       "6                                            Kapolei  Carbon monoxide   \n",
       "7                                                NaN  Carbon monoxide   \n",
       "8                                           Honolulu  Carbon monoxide   \n",
       "9                      Fort Collins - CSU - S. Mason  Carbon monoxide   \n",
       "\n",
       "    units_of_measure  arithmetic_mean  aqi  \n",
       "0  Parts per million         0.473684    7  \n",
       "1  Parts per million         0.263158    5  \n",
       "2  Parts per million         0.111111    2  \n",
       "3  Parts per million         0.300000    3  \n",
       "4  Parts per million         0.215789    3  \n",
       "5  Parts per million         0.994737   14  \n",
       "6  Parts per million         0.200000    2  \n",
       "7  Parts per million         0.200000    2  \n",
       "8  Parts per million         0.400000    5  \n",
       "9  Parts per million         0.300000    6  "
      ]
     },
     "execution_count": 54,
     "metadata": {},
     "output_type": "execute_result"
    }
   ],
   "source": [
    "aqi.head(10)"
   ]
  },
  {
   "cell_type": "code",
   "execution_count": 7,
   "id": "12c706b5-0a4e-4ab9-81d7-f1bb88093e6c",
   "metadata": {},
   "outputs": [
    {
     "data": {
      "text/html": [
       "<div>\n",
       "<style scoped>\n",
       "    .dataframe tbody tr th:only-of-type {\n",
       "        vertical-align: middle;\n",
       "    }\n",
       "\n",
       "    .dataframe tbody tr th {\n",
       "        vertical-align: top;\n",
       "    }\n",
       "\n",
       "    .dataframe thead th {\n",
       "        text-align: right;\n",
       "    }\n",
       "</style>\n",
       "<table border=\"1\" class=\"dataframe\">\n",
       "  <thead>\n",
       "    <tr style=\"text-align: right;\">\n",
       "      <th></th>\n",
       "      <th>Unnamed: 0</th>\n",
       "      <th>date_local</th>\n",
       "      <th>state_name</th>\n",
       "      <th>county_name</th>\n",
       "      <th>city_name</th>\n",
       "      <th>local_site_name</th>\n",
       "      <th>parameter_name</th>\n",
       "      <th>units_of_measure</th>\n",
       "      <th>arithmetic_mean</th>\n",
       "      <th>aqi</th>\n",
       "    </tr>\n",
       "  </thead>\n",
       "  <tbody>\n",
       "    <tr>\n",
       "      <th>250</th>\n",
       "      <td>250</td>\n",
       "      <td>2018-01-01</td>\n",
       "      <td>California</td>\n",
       "      <td>Los Angeles</td>\n",
       "      <td>West Los Angeles</td>\n",
       "      <td>West Los Angeles</td>\n",
       "      <td>Carbon monoxide</td>\n",
       "      <td>Parts per million</td>\n",
       "      <td>0.655556</td>\n",
       "      <td>11</td>\n",
       "    </tr>\n",
       "    <tr>\n",
       "      <th>251</th>\n",
       "      <td>251</td>\n",
       "      <td>2018-01-01</td>\n",
       "      <td>Colorado</td>\n",
       "      <td>Denver</td>\n",
       "      <td>Denver</td>\n",
       "      <td>La Casa</td>\n",
       "      <td>Carbon monoxide</td>\n",
       "      <td>Parts per million</td>\n",
       "      <td>0.342105</td>\n",
       "      <td>5</td>\n",
       "    </tr>\n",
       "    <tr>\n",
       "      <th>252</th>\n",
       "      <td>252</td>\n",
       "      <td>2018-01-01</td>\n",
       "      <td>Ohio</td>\n",
       "      <td>Hamilton</td>\n",
       "      <td>Cincinnati</td>\n",
       "      <td>Cincinnati Near Road</td>\n",
       "      <td>Carbon monoxide</td>\n",
       "      <td>Parts per million</td>\n",
       "      <td>0.226316</td>\n",
       "      <td>3</td>\n",
       "    </tr>\n",
       "    <tr>\n",
       "      <th>253</th>\n",
       "      <td>253</td>\n",
       "      <td>2018-01-01</td>\n",
       "      <td>Oregon</td>\n",
       "      <td>Washington</td>\n",
       "      <td>Tualatin</td>\n",
       "      <td>Tualatin Bradbury Court (TBC) - Near Road Site</td>\n",
       "      <td>Carbon monoxide</td>\n",
       "      <td>Parts per million</td>\n",
       "      <td>0.100000</td>\n",
       "      <td>1</td>\n",
       "    </tr>\n",
       "    <tr>\n",
       "      <th>254</th>\n",
       "      <td>254</td>\n",
       "      <td>2018-01-01</td>\n",
       "      <td>Arizona</td>\n",
       "      <td>Pima</td>\n",
       "      <td>Tucson</td>\n",
       "      <td>CHERRY &amp; GLENN</td>\n",
       "      <td>Carbon monoxide</td>\n",
       "      <td>Parts per million</td>\n",
       "      <td>0.563158</td>\n",
       "      <td>14</td>\n",
       "    </tr>\n",
       "    <tr>\n",
       "      <th>255</th>\n",
       "      <td>255</td>\n",
       "      <td>2018-01-01</td>\n",
       "      <td>District Of Columbia</td>\n",
       "      <td>District of Columbia</td>\n",
       "      <td>Washington</td>\n",
       "      <td>Near Road</td>\n",
       "      <td>Carbon monoxide</td>\n",
       "      <td>Parts per million</td>\n",
       "      <td>0.244444</td>\n",
       "      <td>3</td>\n",
       "    </tr>\n",
       "    <tr>\n",
       "      <th>256</th>\n",
       "      <td>256</td>\n",
       "      <td>2018-01-01</td>\n",
       "      <td>Wisconsin</td>\n",
       "      <td>Dodge</td>\n",
       "      <td>Kekoskee</td>\n",
       "      <td>HORICON WILDLIFE AREA</td>\n",
       "      <td>Carbon monoxide</td>\n",
       "      <td>Parts per million</td>\n",
       "      <td>0.200000</td>\n",
       "      <td>2</td>\n",
       "    </tr>\n",
       "    <tr>\n",
       "      <th>257</th>\n",
       "      <td>257</td>\n",
       "      <td>2018-01-01</td>\n",
       "      <td>Kentucky</td>\n",
       "      <td>Jefferson</td>\n",
       "      <td>Louisville</td>\n",
       "      <td>CANNONS LANE</td>\n",
       "      <td>Carbon monoxide</td>\n",
       "      <td>Parts per million</td>\n",
       "      <td>0.163158</td>\n",
       "      <td>2</td>\n",
       "    </tr>\n",
       "    <tr>\n",
       "      <th>258</th>\n",
       "      <td>258</td>\n",
       "      <td>2018-01-01</td>\n",
       "      <td>Nebraska</td>\n",
       "      <td>Douglas</td>\n",
       "      <td>Omaha</td>\n",
       "      <td>NaN</td>\n",
       "      <td>Carbon monoxide</td>\n",
       "      <td>Parts per million</td>\n",
       "      <td>0.421053</td>\n",
       "      <td>9</td>\n",
       "    </tr>\n",
       "    <tr>\n",
       "      <th>259</th>\n",
       "      <td>259</td>\n",
       "      <td>2018-01-01</td>\n",
       "      <td>North Carolina</td>\n",
       "      <td>Wake</td>\n",
       "      <td>Not in a city</td>\n",
       "      <td>Triple Oak</td>\n",
       "      <td>Carbon monoxide</td>\n",
       "      <td>Parts per million</td>\n",
       "      <td>0.188889</td>\n",
       "      <td>2</td>\n",
       "    </tr>\n",
       "  </tbody>\n",
       "</table>\n",
       "</div>"
      ],
      "text/plain": [
       "     Unnamed: 0  date_local            state_name           county_name  \\\n",
       "250         250  2018-01-01            California           Los Angeles   \n",
       "251         251  2018-01-01              Colorado                Denver   \n",
       "252         252  2018-01-01                  Ohio              Hamilton   \n",
       "253         253  2018-01-01                Oregon            Washington   \n",
       "254         254  2018-01-01               Arizona                  Pima   \n",
       "255         255  2018-01-01  District Of Columbia  District of Columbia   \n",
       "256         256  2018-01-01             Wisconsin                 Dodge   \n",
       "257         257  2018-01-01              Kentucky             Jefferson   \n",
       "258         258  2018-01-01              Nebraska               Douglas   \n",
       "259         259  2018-01-01        North Carolina                  Wake   \n",
       "\n",
       "            city_name                                 local_site_name  \\\n",
       "250  West Los Angeles                                West Los Angeles   \n",
       "251            Denver                                         La Casa   \n",
       "252        Cincinnati                            Cincinnati Near Road   \n",
       "253          Tualatin  Tualatin Bradbury Court (TBC) - Near Road Site   \n",
       "254            Tucson                                  CHERRY & GLENN   \n",
       "255        Washington                                       Near Road   \n",
       "256          Kekoskee                           HORICON WILDLIFE AREA   \n",
       "257        Louisville                                    CANNONS LANE   \n",
       "258             Omaha                                             NaN   \n",
       "259     Not in a city                                      Triple Oak   \n",
       "\n",
       "      parameter_name   units_of_measure  arithmetic_mean  aqi  \n",
       "250  Carbon monoxide  Parts per million         0.655556   11  \n",
       "251  Carbon monoxide  Parts per million         0.342105    5  \n",
       "252  Carbon monoxide  Parts per million         0.226316    3  \n",
       "253  Carbon monoxide  Parts per million         0.100000    1  \n",
       "254  Carbon monoxide  Parts per million         0.563158   14  \n",
       "255  Carbon monoxide  Parts per million         0.244444    3  \n",
       "256  Carbon monoxide  Parts per million         0.200000    2  \n",
       "257  Carbon monoxide  Parts per million         0.163158    2  \n",
       "258  Carbon monoxide  Parts per million         0.421053    9  \n",
       "259  Carbon monoxide  Parts per million         0.188889    2  "
      ]
     },
     "execution_count": 7,
     "metadata": {},
     "output_type": "execute_result"
    }
   ],
   "source": [
    "aqi.tail(10)"
   ]
  },
  {
   "cell_type": "code",
   "execution_count": 9,
   "id": "64b152ca-0654-4972-b6c7-67075811b13b",
   "metadata": {},
   "outputs": [
    {
     "data": {
      "text/plain": [
       "(260, 10)"
      ]
     },
     "execution_count": 9,
     "metadata": {},
     "output_type": "execute_result"
    }
   ],
   "source": [
    "aqi.shape"
   ]
  },
  {
   "cell_type": "code",
   "execution_count": 12,
   "id": "3eaa5aa6-da98-4fab-aeeb-8e735f9bb816",
   "metadata": {},
   "outputs": [
    {
     "data": {
      "text/html": [
       "<div>\n",
       "<style scoped>\n",
       "    .dataframe tbody tr th:only-of-type {\n",
       "        vertical-align: middle;\n",
       "    }\n",
       "\n",
       "    .dataframe tbody tr th {\n",
       "        vertical-align: top;\n",
       "    }\n",
       "\n",
       "    .dataframe thead th {\n",
       "        text-align: right;\n",
       "    }\n",
       "</style>\n",
       "<table border=\"1\" class=\"dataframe\">\n",
       "  <thead>\n",
       "    <tr style=\"text-align: right;\">\n",
       "      <th></th>\n",
       "      <th>Unnamed: 0</th>\n",
       "      <th>date_local</th>\n",
       "      <th>state_name</th>\n",
       "      <th>county_name</th>\n",
       "      <th>city_name</th>\n",
       "      <th>local_site_name</th>\n",
       "      <th>parameter_name</th>\n",
       "      <th>units_of_measure</th>\n",
       "      <th>arithmetic_mean</th>\n",
       "      <th>aqi</th>\n",
       "    </tr>\n",
       "  </thead>\n",
       "  <tbody>\n",
       "    <tr>\n",
       "      <th>count</th>\n",
       "      <td>260.000000</td>\n",
       "      <td>260</td>\n",
       "      <td>260</td>\n",
       "      <td>260</td>\n",
       "      <td>260</td>\n",
       "      <td>257</td>\n",
       "      <td>260</td>\n",
       "      <td>260</td>\n",
       "      <td>260.000000</td>\n",
       "      <td>260.000000</td>\n",
       "    </tr>\n",
       "    <tr>\n",
       "      <th>unique</th>\n",
       "      <td>NaN</td>\n",
       "      <td>1</td>\n",
       "      <td>52</td>\n",
       "      <td>149</td>\n",
       "      <td>190</td>\n",
       "      <td>253</td>\n",
       "      <td>1</td>\n",
       "      <td>1</td>\n",
       "      <td>NaN</td>\n",
       "      <td>NaN</td>\n",
       "    </tr>\n",
       "    <tr>\n",
       "      <th>top</th>\n",
       "      <td>NaN</td>\n",
       "      <td>2018-01-01</td>\n",
       "      <td>California</td>\n",
       "      <td>Los Angeles</td>\n",
       "      <td>Not in a city</td>\n",
       "      <td>Kapolei</td>\n",
       "      <td>Carbon monoxide</td>\n",
       "      <td>Parts per million</td>\n",
       "      <td>NaN</td>\n",
       "      <td>NaN</td>\n",
       "    </tr>\n",
       "    <tr>\n",
       "      <th>freq</th>\n",
       "      <td>NaN</td>\n",
       "      <td>260</td>\n",
       "      <td>66</td>\n",
       "      <td>14</td>\n",
       "      <td>21</td>\n",
       "      <td>2</td>\n",
       "      <td>260</td>\n",
       "      <td>260</td>\n",
       "      <td>NaN</td>\n",
       "      <td>NaN</td>\n",
       "    </tr>\n",
       "    <tr>\n",
       "      <th>mean</th>\n",
       "      <td>129.500000</td>\n",
       "      <td>NaN</td>\n",
       "      <td>NaN</td>\n",
       "      <td>NaN</td>\n",
       "      <td>NaN</td>\n",
       "      <td>NaN</td>\n",
       "      <td>NaN</td>\n",
       "      <td>NaN</td>\n",
       "      <td>0.403169</td>\n",
       "      <td>6.757692</td>\n",
       "    </tr>\n",
       "    <tr>\n",
       "      <th>std</th>\n",
       "      <td>75.199734</td>\n",
       "      <td>NaN</td>\n",
       "      <td>NaN</td>\n",
       "      <td>NaN</td>\n",
       "      <td>NaN</td>\n",
       "      <td>NaN</td>\n",
       "      <td>NaN</td>\n",
       "      <td>NaN</td>\n",
       "      <td>0.317902</td>\n",
       "      <td>7.061707</td>\n",
       "    </tr>\n",
       "    <tr>\n",
       "      <th>min</th>\n",
       "      <td>0.000000</td>\n",
       "      <td>NaN</td>\n",
       "      <td>NaN</td>\n",
       "      <td>NaN</td>\n",
       "      <td>NaN</td>\n",
       "      <td>NaN</td>\n",
       "      <td>NaN</td>\n",
       "      <td>NaN</td>\n",
       "      <td>0.000000</td>\n",
       "      <td>0.000000</td>\n",
       "    </tr>\n",
       "    <tr>\n",
       "      <th>25%</th>\n",
       "      <td>64.750000</td>\n",
       "      <td>NaN</td>\n",
       "      <td>NaN</td>\n",
       "      <td>NaN</td>\n",
       "      <td>NaN</td>\n",
       "      <td>NaN</td>\n",
       "      <td>NaN</td>\n",
       "      <td>NaN</td>\n",
       "      <td>0.200000</td>\n",
       "      <td>2.000000</td>\n",
       "    </tr>\n",
       "    <tr>\n",
       "      <th>50%</th>\n",
       "      <td>129.500000</td>\n",
       "      <td>NaN</td>\n",
       "      <td>NaN</td>\n",
       "      <td>NaN</td>\n",
       "      <td>NaN</td>\n",
       "      <td>NaN</td>\n",
       "      <td>NaN</td>\n",
       "      <td>NaN</td>\n",
       "      <td>0.276315</td>\n",
       "      <td>5.000000</td>\n",
       "    </tr>\n",
       "    <tr>\n",
       "      <th>75%</th>\n",
       "      <td>194.250000</td>\n",
       "      <td>NaN</td>\n",
       "      <td>NaN</td>\n",
       "      <td>NaN</td>\n",
       "      <td>NaN</td>\n",
       "      <td>NaN</td>\n",
       "      <td>NaN</td>\n",
       "      <td>NaN</td>\n",
       "      <td>0.516009</td>\n",
       "      <td>9.000000</td>\n",
       "    </tr>\n",
       "    <tr>\n",
       "      <th>max</th>\n",
       "      <td>259.000000</td>\n",
       "      <td>NaN</td>\n",
       "      <td>NaN</td>\n",
       "      <td>NaN</td>\n",
       "      <td>NaN</td>\n",
       "      <td>NaN</td>\n",
       "      <td>NaN</td>\n",
       "      <td>NaN</td>\n",
       "      <td>1.921053</td>\n",
       "      <td>50.000000</td>\n",
       "    </tr>\n",
       "  </tbody>\n",
       "</table>\n",
       "</div>"
      ],
      "text/plain": [
       "        Unnamed: 0  date_local  state_name  county_name      city_name  \\\n",
       "count   260.000000         260         260          260            260   \n",
       "unique         NaN           1          52          149            190   \n",
       "top            NaN  2018-01-01  California  Los Angeles  Not in a city   \n",
       "freq           NaN         260          66           14             21   \n",
       "mean    129.500000         NaN         NaN          NaN            NaN   \n",
       "std      75.199734         NaN         NaN          NaN            NaN   \n",
       "min       0.000000         NaN         NaN          NaN            NaN   \n",
       "25%      64.750000         NaN         NaN          NaN            NaN   \n",
       "50%     129.500000         NaN         NaN          NaN            NaN   \n",
       "75%     194.250000         NaN         NaN          NaN            NaN   \n",
       "max     259.000000         NaN         NaN          NaN            NaN   \n",
       "\n",
       "       local_site_name   parameter_name   units_of_measure  arithmetic_mean  \\\n",
       "count              257              260                260       260.000000   \n",
       "unique             253                1                  1              NaN   \n",
       "top            Kapolei  Carbon monoxide  Parts per million              NaN   \n",
       "freq                 2              260                260              NaN   \n",
       "mean               NaN              NaN                NaN         0.403169   \n",
       "std                NaN              NaN                NaN         0.317902   \n",
       "min                NaN              NaN                NaN         0.000000   \n",
       "25%                NaN              NaN                NaN         0.200000   \n",
       "50%                NaN              NaN                NaN         0.276315   \n",
       "75%                NaN              NaN                NaN         0.516009   \n",
       "max                NaN              NaN                NaN         1.921053   \n",
       "\n",
       "               aqi  \n",
       "count   260.000000  \n",
       "unique         NaN  \n",
       "top            NaN  \n",
       "freq           NaN  \n",
       "mean      6.757692  \n",
       "std       7.061707  \n",
       "min       0.000000  \n",
       "25%       2.000000  \n",
       "50%       5.000000  \n",
       "75%       9.000000  \n",
       "max      50.000000  "
      ]
     },
     "execution_count": 12,
     "metadata": {},
     "output_type": "execute_result"
    }
   ],
   "source": [
    "aqi.describe(include='all')"
   ]
  },
  {
   "cell_type": "code",
   "execution_count": 11,
   "id": "ac571b7e-4772-4390-b01b-7a4f579eff69",
   "metadata": {},
   "outputs": [
    {
     "data": {
      "text/plain": [
       "Unnamed: 0          0\n",
       "date_local          0\n",
       "state_name          0\n",
       "county_name         0\n",
       "city_name           0\n",
       "local_site_name     3\n",
       "parameter_name      0\n",
       "units_of_measure    0\n",
       "arithmetic_mean     0\n",
       "aqi                 0\n",
       "dtype: int64"
      ]
     },
     "execution_count": 11,
     "metadata": {},
     "output_type": "execute_result"
    }
   ],
   "source": [
    "aqi.isnull().sum()"
   ]
  },
  {
   "cell_type": "code",
   "execution_count": 13,
   "id": "16ba9be0-d3d4-4d7a-9926-f378bfc27bed",
   "metadata": {},
   "outputs": [
    {
     "name": "stdout",
     "output_type": "stream",
     "text": [
      "Use describe() to summarize AQI\n",
      "        Unnamed: 0  date_local  state_name  county_name      city_name  \\\n",
      "count   260.000000         260         260          260            260   \n",
      "unique         NaN           1          52          149            190   \n",
      "top            NaN  2018-01-01  California  Los Angeles  Not in a city   \n",
      "freq           NaN         260          66           14             21   \n",
      "mean    129.500000         NaN         NaN          NaN            NaN   \n",
      "std      75.199734         NaN         NaN          NaN            NaN   \n",
      "min       0.000000         NaN         NaN          NaN            NaN   \n",
      "25%      64.750000         NaN         NaN          NaN            NaN   \n",
      "50%     129.500000         NaN         NaN          NaN            NaN   \n",
      "75%     194.250000         NaN         NaN          NaN            NaN   \n",
      "max     259.000000         NaN         NaN          NaN            NaN   \n",
      "\n",
      "       local_site_name   parameter_name   units_of_measure  arithmetic_mean  \\\n",
      "count              257              260                260       260.000000   \n",
      "unique             253                1                  1              NaN   \n",
      "top            Kapolei  Carbon monoxide  Parts per million              NaN   \n",
      "freq                 2              260                260              NaN   \n",
      "mean               NaN              NaN                NaN         0.403169   \n",
      "std                NaN              NaN                NaN         0.317902   \n",
      "min                NaN              NaN                NaN         0.000000   \n",
      "25%                NaN              NaN                NaN         0.200000   \n",
      "50%                NaN              NaN                NaN         0.276315   \n",
      "75%                NaN              NaN                NaN         0.516009   \n",
      "max                NaN              NaN                NaN         1.921053   \n",
      "\n",
      "               aqi  \n",
      "count   260.000000  \n",
      "unique         NaN  \n",
      "top            NaN  \n",
      "freq           NaN  \n",
      "mean      6.757692  \n",
      "std       7.061707  \n",
      "min       0.000000  \n",
      "25%       2.000000  \n",
      "50%       5.000000  \n",
      "75%       9.000000  \n",
      "max      50.000000  \n",
      "For a more thorough examination of observations by state use values_counts()\n",
      "state_name\n",
      "California              66\n",
      "Arizona                 14\n",
      "Ohio                    12\n",
      "Florida                 12\n",
      "Texas                   10\n",
      "Pennsylvania            10\n",
      "New York                10\n",
      "Colorado                 9\n",
      "Michigan                 9\n",
      "Minnesota                7\n",
      "New Jersey               6\n",
      "Indiana                  5\n",
      "Nevada                   4\n",
      "Maryland                 4\n",
      "Massachusetts            4\n",
      "Oklahoma                 4\n",
      "North Carolina           4\n",
      "Virginia                 4\n",
      "Connecticut              4\n",
      "Wyoming                  3\n",
      "Utah                     3\n",
      "Hawaii                   3\n",
      "Illinois                 3\n",
      "Missouri                 3\n",
      "Iowa                     3\n",
      "Kentucky                 3\n",
      "Vermont                  3\n",
      "Rhode Island             2\n",
      "Alaska                   2\n",
      "Georgia                  2\n",
      "Washington               2\n",
      "Idaho                    2\n",
      "Nebraska                 2\n",
      "Montana                  2\n",
      "Tennessee                2\n",
      "Maine                    2\n",
      "New Mexico               2\n",
      "District Of Columbia     2\n",
      "Oregon                   2\n",
      "New Hampshire            2\n",
      "Kansas                   1\n",
      "Alabama                  1\n",
      "South Dakota             1\n",
      "West Virginia            1\n",
      "Mississippi              1\n",
      "Louisiana                1\n",
      "Delaware                 1\n",
      "North Dakota             1\n",
      "Arkansas                 1\n",
      "Puerto Rico              1\n",
      "South Carolina           1\n",
      "Wisconsin                1\n",
      "Name: count, dtype: int64\n",
      "for a more\n"
     ]
    }
   ],
   "source": [
    "print(\"Use describe() to summarize AQI\")\n",
    "print(aqi.describe(include='all'))\n",
    "\n",
    "print(\"For a more thorough examination of observations by state use values_counts()\")\n",
    "print(aqi['state_name'].value_counts())\n",
    "\n",
    "print('for a more')"
   ]
  },
  {
   "cell_type": "markdown",
   "id": "80d67c41-02f1-4108-aa57-a59336afef85",
   "metadata": {},
   "source": [
    "# Key insights:\n",
    "\n",
    "1. All of the sites collected data on January 1st, 2018.\n",
    "2. The minimum AQI value is 0 and the maximum AQI value is 50.\n",
    "3. All states are not equally represented. California has 66 sites that reported AQI for this dataset, while states such as Delaware and        Alabama have only one site that reported AQI.\n",
    "4. I have county-level data for the first hypothesis.\n",
    "5. Ohio and New York both have a higher number of observations to work with in this dataset."
   ]
  },
  {
   "cell_type": "markdown",
   "id": "6170247e-1bd2-49e8-b280-e7bba28dc3c7",
   "metadata": {},
   "source": [
    "# 3: Statistical tests "
   ]
  },
  {
   "cell_type": "markdown",
   "id": "789c0fd0-1512-496c-a60b-2865bd92e4cf",
   "metadata": {},
   "source": [
    "Summarize the mean AQI for RRE states"
   ]
  },
  {
   "cell_type": "code",
   "execution_count": 36,
   "id": "fb3abca7-9027-4f01-ab6b-d42e1932f132",
   "metadata": {},
   "outputs": [
    {
     "data": {
      "text/html": [
       "<div>\n",
       "<style scoped>\n",
       "    .dataframe tbody tr th:only-of-type {\n",
       "        vertical-align: middle;\n",
       "    }\n",
       "\n",
       "    .dataframe tbody tr th {\n",
       "        vertical-align: top;\n",
       "    }\n",
       "\n",
       "    .dataframe thead th {\n",
       "        text-align: right;\n",
       "    }\n",
       "</style>\n",
       "<table border=\"1\" class=\"dataframe\">\n",
       "  <thead>\n",
       "    <tr style=\"text-align: right;\">\n",
       "      <th></th>\n",
       "      <th>aqi</th>\n",
       "      <th>state_name</th>\n",
       "    </tr>\n",
       "    <tr>\n",
       "      <th>state_name</th>\n",
       "      <th></th>\n",
       "      <th></th>\n",
       "    </tr>\n",
       "  </thead>\n",
       "  <tbody>\n",
       "    <tr>\n",
       "      <th>California</th>\n",
       "      <td>12.121212</td>\n",
       "      <td>66</td>\n",
       "    </tr>\n",
       "    <tr>\n",
       "      <th>Florida</th>\n",
       "      <td>5.500000</td>\n",
       "      <td>12</td>\n",
       "    </tr>\n",
       "    <tr>\n",
       "      <th>Michigan</th>\n",
       "      <td>8.111111</td>\n",
       "      <td>9</td>\n",
       "    </tr>\n",
       "    <tr>\n",
       "      <th>Ohio</th>\n",
       "      <td>3.333333</td>\n",
       "      <td>12</td>\n",
       "    </tr>\n",
       "    <tr>\n",
       "      <th>Pennsylvania</th>\n",
       "      <td>2.900000</td>\n",
       "      <td>10</td>\n",
       "    </tr>\n",
       "    <tr>\n",
       "      <th>Texas</th>\n",
       "      <td>2.700000</td>\n",
       "      <td>10</td>\n",
       "    </tr>\n",
       "  </tbody>\n",
       "</table>\n",
       "</div>"
      ],
      "text/plain": [
       "                    aqi  state_name\n",
       "state_name                         \n",
       "California    12.121212          66\n",
       "Florida        5.500000          12\n",
       "Michigan       8.111111           9\n",
       "Ohio           3.333333          12\n",
       "Pennsylvania   2.900000          10\n",
       "Texas          2.700000          10"
      ]
     },
     "execution_count": 36,
     "metadata": {},
     "output_type": "execute_result"
    }
   ],
   "source": [
    "# Summarize the mean AQI for RRE states.\n",
    "\n",
    "# Create a list of RRE states.\n",
    "\n",
    "rre_states = ['California','Florida','Michigan','Ohio','Pennsylvania','Texas']\n",
    "\n",
    "# Subset `aqi` to only consider these states.\n",
    "\n",
    "aqi_rre = aqi[aqi['state_name'].isin(rre_states)]\n",
    "\n",
    "# Find the mean aqi for each of the RRE states.\n",
    "\n",
    "aqi_rre.groupby(['state_name']).agg({\"aqi\":\"mean\",\"state_name\":\"count\"}) #alias as aqi_rre\n"
   ]
  },
  {
   "cell_type": "markdown",
   "id": "dc088737-8acb-4c85-b712-9b836971a13f",
   "metadata": {},
   "source": [
    "Construct a boxplot visualization for the AQI of these states\n",
    "\n",
    "Create an in-line visualization showing the distribution of aqi by state_name"
   ]
  },
  {
   "cell_type": "code",
   "execution_count": 68,
   "id": "c6a3c691-80f8-4bec-a4a6-072cf43339be",
   "metadata": {},
   "outputs": [
    {
     "data": {
      "image/png": "[encoded data removed]",
      "text/plain": [
       "<Figure size 640x480 with 1 Axes>"
      ]
     },
     "metadata": {},
     "output_type": "display_data"
    }
   ],
   "source": [
    "palette = sns.color_palette(\"Set2\", n_colors=aqi_rre['state_name'].nunique())\n",
    "\n",
    "sns.boxplot(x=\"state_name\", y=\"aqi\", data=aqi_rre, hue=\"state_name\", palette=palette, legend=False)\n",
    "\n",
    "plt.title(\"Distribution of AQI by State\")\n",
    "plt.xticks(rotation=45)\n",
    "plt.legend([],[], frameon=False)  # Hide legend\n",
    "plt.show()"
   ]
  },
  {
   "cell_type": "markdown",
   "id": "cd556928-69be-4e0c-996b-eaf33ab02609",
   "metadata": {},
   "source": [
    "**Key insights:**\n",
    "\n",
    "*California: The mean and a signficant portion of the boxplot range over 10.\n",
    "\n",
    "*Michigan: While the mean is below 10, the boxplot ranges above 10."
   ]
  },
  {
   "cell_type": "markdown",
   "id": "6205868f-6aea-41a9-8d65-9935f825ec08",
   "metadata": {},
   "source": [
    "**Construct a confidence interval for the RRE state with the highest mean AQI**\n",
    "\n",
    "The four-step process for constructing a confidence interval:\n",
    "\n",
    "1.Identify a sample statistic.\n",
    "\n",
    "2.Choose a confidence level.\n",
    "\n",
    "3.Find the margin of error.\n",
    "\n",
    "4.Calculate the interval."
   ]
  },
  {
   "cell_type": "markdown",
   "id": "b57b849c-2870-49ae-8f5e-7ce62c262ea3",
   "metadata": {},
   "source": [
    "**Construct your sample statistic**"
   ]
  },
  {
   "cell_type": "code",
   "execution_count": 75,
   "id": "50457611-220d-466c-929e-fd4caad68218",
   "metadata": {},
   "outputs": [
    {
     "name": "stdout",
     "output_type": "stream",
     "text": [
      "12.121212121212121\n"
     ]
    }
   ],
   "source": [
    "# Find the mean aqi for your state.\n",
    "\n",
    "aqi_ca = aqi[aqi['state_name']=='California']\n",
    "\n",
    "sample_mean = aqi_ca['aqi'].mean()\n",
    "print(sample_mean)"
   ]
  },
  {
   "cell_type": "markdown",
   "id": "d72362a6-b726-48b7-93c1-fabd0a4aa231",
   "metadata": {},
   "source": [
    "**Choose the confidence level**"
   ]
  },
  {
   "cell_type": "code",
   "execution_count": 76,
   "id": "4f9da18a-ea27-4ea3-8cf4-8c65989d6fad",
   "metadata": {},
   "outputs": [
    {
     "data": {
      "text/plain": [
       "0.95"
      ]
     },
     "execution_count": 76,
     "metadata": {},
     "output_type": "execute_result"
    }
   ],
   "source": [
    "# Input the confidence level.\n",
    "\n",
    "confidence_level = 0.95\n",
    "confidence_level"
   ]
  },
  {
   "cell_type": "markdown",
   "id": "48a4d1c6-ca60-4f37-870f-3d50bf293fb6",
   "metadata": {},
   "source": [
    "*Find the margin of error (ME)*\n",
    "\n",
    "**margin of error = z * standard error**, \n",
    "\n",
    "where z is the appropriate z-value for the given confidence level. To calculate margin of error:\n",
    "\n",
    "Find z-value.\n",
    "\n",
    "Find the approximate z for common confidence levels.\n",
    "\n",
    "Calculate the standard error estimate.\n",
    "\n",
    "| Confidence Level | Z Score |\n",
    "|------------------|---------|\n",
    "| 90%              | 1.65    |\n",
    "| 95%              | 1.96    |    \n",
    "| 99%              | 2.58    |\n"
   ]
  },
  {
   "cell_type": "code",
   "execution_count": 79,
   "id": "0615d488-2289-4036-9de1-4bd7278a35de",
   "metadata": {},
   "outputs": [
    {
     "name": "stdout",
     "output_type": "stream",
     "text": [
      "standard error:\n",
      "0.8987209641127412\n",
      "margin of error:\n",
      "1.7614930896609726\n"
     ]
    }
   ],
   "source": [
    "# Calculate the margin of error.\n",
    "\n",
    "# Begin by identifying the z associated with the chosen confidence level.\n",
    "\n",
    "z_value = 1.96\n",
    "\n",
    "# Next, calculate the standard error.\n",
    "\n",
    "standard_error = aqi_ca['aqi'].std() / np.sqrt(aqi_ca.shape[0])\n",
    "print(\"standard error:\")\n",
    "print(standard_error)\n",
    "\n",
    "# Lastly, use the preceding result to calculate the margin of error.\n",
    "\n",
    "margin_of_error = standard_error * z_value\n",
    "print(\"margin of error:\")\n",
    "print(margin_of_error)"
   ]
  },
  {
   "cell_type": "markdown",
   "id": "585f7008-7cb7-460f-b68b-51f1fd27f890",
   "metadata": {},
   "source": [
    "**Calculate the interval**"
   ]
  },
  {
   "cell_type": "code",
   "execution_count": 81,
   "id": "bcc09894-1641-40e4-9cda-4b2ec8c96dfe",
   "metadata": {},
   "outputs": [
    {
     "name": "stdout",
     "output_type": "stream",
     "text": [
      "10.359719031551148 13.882705210873095\n"
     ]
    }
   ],
   "source": [
    "# Calculate the confidence interval (upper and lower limits).\n",
    "\n",
    "upper_ci_limit = sample_mean + margin_of_error\n",
    "lower_ci_limit = sample_mean - margin_of_error\n",
    "print(lower_ci_limit, upper_ci_limit)"
   ]
  },
  {
   "cell_type": "markdown",
   "id": "16dfd0f7-4945-453d-badd-ad6e599a1454",
   "metadata": {},
   "source": [
    "# 4: Results and evaluation"
   ]
  },
  {
   "cell_type": "markdown",
   "id": "32654bee-86cb-4d27-8a4b-437b0ecf38af",
   "metadata": {},
   "source": [
    "**Recalculate the confidence interval**"
   ]
  },
  {
   "cell_type": "code",
   "execution_count": 89,
   "id": "b4cee503-b9b3-4fbd-8734-a695f205b83b",
   "metadata": {},
   "outputs": [
    {
     "data": {
      "text/plain": [
       "(np.float64(10.359751399400034), np.float64(13.882672843024208))"
      ]
     },
     "execution_count": 89,
     "metadata": {},
     "output_type": "execute_result"
    }
   ],
   "source": [
    "stats.norm.interval(confidence=confidence_level, loc=sample_mean, scale=standard_error)"
   ]
  },
  {
   "cell_type": "markdown",
   "id": "a91e82c7-ba97-42f4-b5bd-58b5dd3a979f",
   "metadata": {},
   "source": [
    "*Considerations*\n",
    "\n",
    "*My findings:*\n",
    "\n",
    "- This notebook conveys the analytical process and describe the methodology behind constructing the confidence interval.\n",
    "- A confidence interval at the 95% level of confidence from this sample data yielded [10.36 , 13.88], which provides the interpretation \"given the observed sample AQI measurements, there is a 95% confidence that the population mean AQI for California was between 10.36 and 13.88. This range is notably greater than 10.\"\n",
    "- If I varied the confidence level to 99%, the confidence interval would become [9.80 , 14.43]."
   ]
  },
  {
   "cell_type": "markdown",
   "id": "82e5c606-dcf8-4d1c-8f51-cb80a968ba5f",
   "metadata": {},
   "source": [
    "# Hypothesis testing"
   ]
  },
  {
   "cell_type": "markdown",
   "id": "2aab2a29-8b9e-41c1-8374-5791565639c0",
   "metadata": {},
   "source": [
    "**Introduction**"
   ]
  },
  {
   "cell_type": "markdown",
   "id": "70c24c6c-4e59-47c3-89ab-183189177e31",
   "metadata": {},
   "source": [
    "Repair Our Air (ROA) is formulating policy recommendations to improve the air quality in America, using the Environmental Protection Agency's Air Quality Index (AQI) to guide their decision making.\n",
    "\n",
    "I am conducting hypothesis tests to make a recommendation:\n",
    "\n",
    "1. ROA is considering a metropolitan-focused approach. Within California, they want to know if the mean AQI in Los Angeles County is statistically different from the rest of California.\n",
    "2. With limited resources, ROA has to choose between New York and Ohio for their next regional office. Does New York have a lower AQI than Ohio?\n",
    "3. A new policy will affect those states with a mean AQI of 10 or greater. Can you rule out Michigan from being affected by this new policy?\n",
    "\n",
    "**Notes:**\n",
    "1. I'll default to a 5% level of significance.\n",
    "2. Throughout the project, for two-sample t-tests, use Welch's t-test (i.e., setting the equal_var parameter to False in    scipy.stats.ttest_ind()). This will account for the possibly unequal variances between the two groups in the comparison."
   ]
  },
  {
   "cell_type": "markdown",
   "id": "6da814c5-e864-4bb6-a6f5-dee486708c4f",
   "metadata": {},
   "source": [
    "**1. Statistical Tests**\n",
    "\n",
    "Steps for conducting hypothesis testing:\n",
    "\n",
    "1. Formulate the null hypothesis and the alternative hypothesis.\n",
    "2. Set the significance level.\n",
    "3. Determine the appropriate test procedure.\n",
    "4. Compute the p-value.\n",
    "5. Draw a conclusion."
   ]
  },
  {
   "cell_type": "markdown",
   "id": "c7c8a507-49b4-487d-97db-98b673ce66ae",
   "metadata": {},
   "source": [
    "**Hypothesis 1: ROA is considering a metropolitan-focused approach. Within California, they want to know if the mean AQI in Los Angeles County is statistically different from the rest of California.**"
   ]
  },
  {
   "cell_type": "code",
   "execution_count": 90,
   "id": "125cf7ba-85cb-488f-b0a7-ab6b5cfd0d91",
   "metadata": {},
   "outputs": [],
   "source": [
    "# Create dataframes for each sample being compared in the test\n",
    "\n",
    "ca_la = aqi[aqi['county_name']=='Los Angeles']\n",
    "ca_other = aqi[(aqi['state_name']=='California') & (aqi['county_name']!='Los Angeles')]"
   ]
  },
  {
   "cell_type": "markdown",
   "id": "adba8095-c6c6-4dff-9ec2-e63f68eeee34",
   "metadata": {},
   "source": [
    "Formulate my hypothesis:\n",
    "\n",
    "Formulate my null and alternative hypotheses:\n",
    "\n",
    "- $H_0$\n",
    " : There is no difference in the mean AQI between Los Angeles County and the rest of California.\n",
    "\n",
    "- $H_A$\n",
    " : There is a difference in the mean AQI between Los Angeles County and the rest of California."
   ]
  },
  {
   "cell_type": "markdown",
   "id": "4362b86c-6bb6-403b-9f92-0f5078c39293",
   "metadata": {},
   "source": [
    "Set the significance level:"
   ]
  },
  {
   "cell_type": "code",
   "execution_count": 91,
   "id": "01ee98b8-ec7e-4065-9464-1fbda5f58400",
   "metadata": {},
   "outputs": [
    {
     "data": {
      "text/plain": [
       "0.05"
      ]
     },
     "execution_count": 91,
     "metadata": {},
     "output_type": "execute_result"
    }
   ],
   "source": [
    "# For this analysis, the significance level is 5%\n",
    "\n",
    "significance_level = 0.05\n",
    "significance_level"
   ]
  },
  {
   "cell_type": "markdown",
   "id": "13d65fba-cb1e-4920-946d-c2db2102c88d",
   "metadata": {},
   "source": [
    "Determine the appropriate test procedure"
   ]
  },
  {
   "cell_type": "markdown",
   "id": "61ff129c-ec80-47b1-8341-0cafa1bfe89f",
   "metadata": {},
   "source": [
    "Here, I am comparing the sample means between two independent samples. Therefore, I will utilize a **two-sample 𝑡-test**."
   ]
  },
  {
   "cell_type": "markdown",
   "id": "29a2f4b5-cc52-43fc-8717-896270bed8b0",
   "metadata": {},
   "source": [
    "Compute the p-value"
   ]
  },
  {
   "cell_type": "code",
   "execution_count": 92,
   "id": "8b1e2e79-29a6-4d0b-9a2e-86e8791c7032",
   "metadata": {},
   "outputs": [
    {
     "data": {
      "text/plain": [
       "TtestResult(statistic=np.float64(2.1107010796372014), pvalue=np.float64(0.049839056842410995), df=np.float64(17.08246830361151))"
      ]
     },
     "execution_count": 92,
     "metadata": {},
     "output_type": "execute_result"
    }
   ],
   "source": [
    "# Compute the p-value here\n",
    "\n",
    "stats.ttest_ind(a=ca_la['aqi'], b=ca_other['aqi'], equal_var=False)"
   ]
  },
  {
   "cell_type": "markdown",
   "id": "93183fde-82ae-4389-90db-49d9b58e18b3",
   "metadata": {},
   "source": [
    "**Key insight:**\n",
    "\n",
    "With a p-value (0.049) being less than 0.05 (as your significance level is 5%), \n",
    "reject the null hypothesis in favor of the alternative hypothesis.\n",
    "\n",
    "Therefore, a metropolitan strategy may make sense in this case."
   ]
  },
  {
   "cell_type": "markdown",
   "id": "a664efc1-4d7f-418b-a877-101399a71787",
   "metadata": {},
   "source": [
    "**Hypothesis 2: With limited resources, ROA has to choose between New York and Ohio for their next regional office. Does New York have a lower AQI than Ohio?**"
   ]
  },
  {
   "cell_type": "code",
   "execution_count": 93,
   "id": "51133efc-f6c7-4180-969a-bf8407ee114c",
   "metadata": {},
   "outputs": [],
   "source": [
    "# Create dataframes for each sample being compared in the test\n",
    "\n",
    "ny = aqi[aqi['state_name']=='New York']\n",
    "ohio = aqi[aqi['state_name']=='Ohio']"
   ]
  },
  {
   "cell_type": "markdown",
   "id": "755de1ba-2338-4bb7-a509-823c8f59184d",
   "metadata": {},
   "source": [
    "Formulate my hypothesis:\n",
    "\n",
    "**Formulate my null and alternative hypotheses:**\n",
    "\n",
    "- $H_0$ : The mean AQI of New York is greater than or equal to that of Ohio.\n",
    "- $H_A$ : The mean AQI of New York is below that of Ohio.\n",
    "\n",
    "Significance Level (remains at 5%)\n",
    "\n",
    "Determine the appropriate test procedure:\n",
    "Here, I am comparing the sample means between two independent samples in one direction. Therefore, I will utilize a **two-sample 𝑡-test.**\n",
    "\n",
    "Compute the p-value"
   ]
  },
  {
   "cell_type": "code",
   "execution_count": 94,
   "id": "e2e06e16-8d26-497e-aaa5-2fea40afd98d",
   "metadata": {},
   "outputs": [
    {
     "name": "stdout",
     "output_type": "stream",
     "text": [
      "-2.025951038880333\n",
      "0.03044650269193468\n"
     ]
    }
   ],
   "source": [
    "# Compute the p-value here\n",
    "\n",
    "tstat, pvalue = stats.ttest_ind(a=ny['aqi'], b=ohio['aqi'], alternative='less', equal_var=False)\n",
    "print(tstat)\n",
    "print(pvalue)"
   ]
  },
  {
   "cell_type": "markdown",
   "id": "abb59ddc-6e32-439c-bd7c-683bc39fb348",
   "metadata": {},
   "source": [
    "**Key insight:**\n",
    "\n",
    "With a p-value (0.030) of less than 0.05 (as your significance level is 5%) and a t-statistic < 0 (-2.036), \n",
    "\n",
    "reject the null hypothesis in favor of the alternative hypothesis.\n",
    "\n",
    "\n",
    "Therefore, I can conclude at the 5% significance level that New York has a lower mean AQI than Ohio."
   ]
  },
  {
   "cell_type": "markdown",
   "id": "40e9b3c7-1b2a-49cc-856d-e304b6d37b31",
   "metadata": {},
   "source": [
    "**Hypothesis 3: A new policy will affect those states with a mean AQI of 10 or greater. Can you rule out Michigan from being affected by this new policy?**\n"
   ]
  },
  {
   "cell_type": "code",
   "execution_count": 96,
   "id": "fe48a4d0-369e-4f3c-8cdc-c1ce793d1229",
   "metadata": {},
   "outputs": [],
   "source": [
    "# Create dataframes for each sample being compared in a test\n",
    "\n",
    "michigan = aqi[aqi['state_name']=='Michigan']\n"
   ]
  },
  {
   "cell_type": "markdown",
   "id": "5f269420-addb-46ca-a1a7-282897f93296",
   "metadata": {},
   "source": [
    "Formulate my hypothesis:\n",
    "\n",
    "**Formulate my null and alternative hypotheses:**\n",
    "\n",
    "- $H_0$ : The mean AQI of Michigan is less than or equal to 10.\n",
    "- $H_A$ : The mean AQI of Michigan is greater than 10.\n",
    "\n",
    "Significance Level (remains at 5%)\n",
    "Determine the appropriate test procedure:\n",
    "\n",
    "Here, I am comparing one sample mean relative to a particular value in one direction. Therefore, I will utilize a **one-sample 𝑡-test.**\n",
    "\n",
    "Compute the p-value"
   ]
  },
  {
   "cell_type": "code",
   "execution_count": 97,
   "id": "ff12f594-f229-4fc9-8eac-537a62f9c06d",
   "metadata": {},
   "outputs": [
    {
     "name": "stdout",
     "output_type": "stream",
     "text": [
      "-1.7395913343286131\n",
      "0.9399405193140109\n"
     ]
    }
   ],
   "source": [
    "# Compute the p-value here\n",
    "\n",
    "tstat, pvalue = stats.ttest_1samp(michigan['aqi'], 10, alternative='greater')\n",
    "print(tstat)\n",
    "print(pvalue)"
   ]
  },
  {
   "cell_type": "markdown",
   "id": "62f20a84-1816-4a1e-aff1-6ebfa542f698",
   "metadata": {},
   "source": [
    "**Key insight:**\n",
    "\n",
    "With a p-value (0.940) being greater than 0.05 (as my significance level is 5%) and a t-statistic < 0 (-1.74), \n",
    "**fail to reject the null hypothesis.**\n",
    "\n",
    "Therefore, I cannot conclude at the 5% significance level that Michigan's mean AQI is greater than 10. This implies that Michigan would not be affected by the new policy."
   ]
  },
  {
   "cell_type": "markdown",
   "id": "61acc362-e411-46c5-a554-8b411f7f8a20",
   "metadata": {
    "jp-MarkdownHeadingCollapsed": true
   },
   "source": [
    "\n",
    "### ✅ Conclusion Summary:\n",
    "\n",
    "Based on the results of the three hypothesis tests:\n",
    "\n",
    "#### **Hypothesis 1:**\n",
    "- The p-value (0.049) is less than the significance level of 0.05.  \n",
    "- Hence, we **reject the null hypothesis** and conclude that a **metropolitan strategy may be effective** in this case.\n",
    "\n",
    "#### **Hypothesis 2:**\n",
    "- The p-value (0.030) is less than 0.05, and the t-statistic is negative (-2.036).  \n",
    "- Therefore, we **reject the null hypothesis** and conclude that **New York has a significantly lower mean AQI** compared to others at the 5% significance level.\n",
    "\n",
    "#### **Hypothesis 3:**\n",
    "- The p-value (0.940) is greater than 0.05, despite the negative t-statistic (-1.74).  \n",
    "- Hence, we **fail to reject the null hypothesis**, indicating **no significant evidence that Michigan’s mean AQI is greater than 10**.  \n",
    "- Thus, **Michigan may not be impacted by the new policy**.\n",
    "\n",
    "---\n",
    "\n",
    "#### ✅ **Overall Insight:**\n",
    "These results suggest that while some regions like New York and metropolitan areas may benefit from targeted strategies, others like Michigan may not require immediate intervention under the current AQI thresholds.\n"
   ]
  },
  {
   "cell_type": "code",
   "execution_count": null,
   "id": "681e1586-3284-401b-a56a-ae53ba2a61dd",
   "metadata": {},
   "outputs": [],
   "source": []
  }
 ],
 "metadata": {
  "kernelspec": {
   "display_name": "Python 3 (ipykernel)",
   "language": "python",
   "name": "python3"
  },
  "language_info": {
   "codemirror_mode": {
    "name": "ipython",
    "version": 3
   },
   "file_extension": ".py",
   "mimetype": "text/x-python",
   "name": "python",
   "nbconvert_exporter": "python",
   "pygments_lexer": "ipython3",
   "version": "3.12.0"
  }
 },
 "nbformat": 4,
 "nbformat_minor": 5
}
